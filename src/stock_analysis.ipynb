{
 "metadata": {
  "language_info": {
   "codemirror_mode": {
    "name": "ipython",
    "version": 3
   },
   "file_extension": ".py",
   "mimetype": "text/x-python",
   "name": "python",
   "nbconvert_exporter": "python",
   "pygments_lexer": "ipython3",
   "version": "3.8.5-final"
  },
  "orig_nbformat": 2,
  "kernelspec": {
   "name": "python38564bitd696e69aca654e248d849fe75f1cee32",
   "display_name": "Python 3.8.5 64-bit"
  }
 },
 "nbformat": 4,
 "nbformat_minor": 2,
 "cells": [
  {
   "cell_type": "code",
   "execution_count": 9,
   "metadata": {
    "tags": []
   },
   "outputs": [],
   "source": [
    "import requests\n",
    "import pandas as pd \n",
    "from yahoo_fin import stock_info as si \n",
    "from pandas_datareader import DataReader\n",
    "import numpy as np\n",
    "\n",
    "# Constants\n",
    "SP_500_TICKERS = si.tickers_sp500()\n",
    "BASE_URL_1 = 'https://query2.finance.yahoo.com/v10/finance/quoteSummary/'\n",
    "BASE_URL_2 = '?formatted=true&crumb=swg7qs5y9UP&lang=en-US&region=US&' \\\n",
    "              'modules=upgradeDowngradeHistory,recommendationTrend,' \\\n",
    "              'financialData,earningsHistory,earningsTrend,industryTrend&' \\\n",
    "              'corsDomain=finance.yahoo.com'\n",
    "stock_data = []"
   ]
  },
  {
   "cell_type": "code",
   "execution_count": null,
   "metadata": {},
   "outputs": [],
   "source": [
    "for ticker in SP_500_TICKERS:\n",
    "    # Get url and make request\n",
    "    url = BASE_URL_1 + ticker + BASE_URL_2\n",
    "    response = requests.get(url)\n",
    "    response_json = response.json()\n",
    "\n",
    "    "
   ]
  },
  {
   "cell_type": "code",
   "execution_count": null,
   "metadata": {},
   "outputs": [],
   "source": [
    "for ticker in tickers:\n",
    "    lhs_url = 'https://query2.finance.yahoo.com/v10/finance/quoteSummary/'\n",
    "    rhs_url = '?formatted=true&crumb=swg7qs5y9UP&lang=en-US&region=US&' \\\n",
    "              'modules=upgradeDowngradeHistory,recommendationTrend,' \\\n",
    "              'financialData,earningsHistory,earningsTrend,industryTrend&' \\\n",
    "              'corsDomain=finance.yahoo.com'\n",
    "              \n",
    "    url =  lhs_url + ticker + rhs_url\n",
    "    r = requests.get(url)\n",
    "    if not r.ok:\n",
    "        recommendation = 6\n",
    "    try:\n",
    "        result = r.json()['quoteSummary']['result'][0]\n",
    "        recommendation =result['financialData']['recommendationMean']['fmt']\n",
    "    except:\n",
    "        recommendation = 6\n",
    "    \n",
    "    recommendations.append(recommendation)\n",
    "    \n",
    "    print(\"--------------------------------------------\")\n",
    "    print (\"{} has an average recommendation of: \".format(ticker), recommendation)\n",
    "    #time.sleep(0.5)\n",
    "    \n",
    "dataframe = pd.DataFrame(list(zip(tickers, recommendations)), columns =['Company', 'Recommendations']) \n",
    "dataframe = dataframe.set_index('Company')\n",
    "dataframe.to_csv('recommendations.csv')\n",
    "\n",
    "print (df)"
   ]
  }
 ]
}