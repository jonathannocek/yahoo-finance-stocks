{
  "nbformat": 4,
  "nbformat_minor": 0,
  "metadata": {
    "colab": {
      "name": "yahoo_stocks.ipynb",
      "provenance": [],
      "collapsed_sections": [],
      "authorship_tag": "ABX9TyPfFw/KgP2II5rtTOFqkWnZ",
      "include_colab_link": true
    },
    "kernelspec": {
      "name": "python3",
      "display_name": "Python 3"
    }
  },
  "cells": [
    {
      "cell_type": "markdown",
      "metadata": {
        "id": "view-in-github",
        "colab_type": "text"
      },
      "source": [
        "<a href=\"https://colab.research.google.com/github/jonathannocek/yahoo-finance-stocks/blob/master/src/yahoo_stocks.ipynb\" target=\"_parent\"><img src=\"https://colab.research.google.com/assets/colab-badge.svg\" alt=\"Open In Colab\"/></a>"
      ]
    },
    {
      "cell_type": "markdown",
      "metadata": {
        "id": "ZOCF-nBLXHew",
        "colab_type": "text"
      },
      "source": [
        "# **Yahoo Stock Data**\n",
        "\n",
        "### **Part 1: Import packages**"
      ]
    },
    {
      "cell_type": "code",
      "metadata": {
        "id": "fa5zxfJgTO0j",
        "colab_type": "code",
        "colab": {
          "base_uri": "https://localhost:8080/",
          "height": 462
        },
        "outputId": "48dab2ad-f02b-45d4-90b2-183898cf7d88"
      },
      "source": [
        "import requests\n",
        "import pandas as pd \n",
        "!pip install yahoo_fin\n",
        "from yahoo_fin import stock_info as si\n",
        "!pip install pandas_datareader\n",
        "from pandas_datareader import DataReader\n",
        "import numpy as np\n",
        "\n",
        "\n",
        "# Constants\n",
        "SP_500_TICKERS = si.tickers_sp500()\n",
        "BASE_URL_1 = 'https://query2.finance.yahoo.com/v10/finance/quoteSummary/'\n",
        "BASE_URL_2 = '?formatted=true&crumb=swg7qs5y9UP&lang=en-US&region=US&' \\\n",
        "              'modules=upgradeDowngradeHistory,recommendationTrend,' \\\n",
        "              'financialData,earningsHistory,earningsTrend,industryTrend&' \\\n",
        "              'corsDomain=finance.yahoo.com'\n",
        "stock_data = []"
      ],
      "execution_count": 2,
      "outputs": [
        {
          "output_type": "stream",
          "text": [
            "Collecting yahoo_fin\n",
            "  Downloading https://files.pythonhosted.org/packages/d3/5c/6bf0c0147cc94d643e2a2413d0a9b27967e964ee99f88f26db93a0b963b8/yahoo_fin-0.8.6-py3-none-any.whl\n",
            "Installing collected packages: yahoo-fin\n",
            "Successfully installed yahoo-fin-0.8.6\n",
            "Warning - Certain functionality \n",
            "             requires requests_html, which is not installed.\n",
            "             \n",
            "             Install using: \n",
            "             pip install requests_html\n",
            "             \n",
            "             After installation, you may have to restart your Python session.\n",
            "Requirement already satisfied: pandas_datareader in /usr/local/lib/python3.6/dist-packages (0.8.1)\n",
            "Requirement already satisfied: lxml in /usr/local/lib/python3.6/dist-packages (from pandas_datareader) (4.2.6)\n",
            "Requirement already satisfied: requests>=2.3.0 in /usr/local/lib/python3.6/dist-packages (from pandas_datareader) (2.23.0)\n",
            "Requirement already satisfied: pandas>=0.21 in /usr/local/lib/python3.6/dist-packages (from pandas_datareader) (1.0.5)\n",
            "Requirement already satisfied: certifi>=2017.4.17 in /usr/local/lib/python3.6/dist-packages (from requests>=2.3.0->pandas_datareader) (2020.6.20)\n",
            "Requirement already satisfied: urllib3!=1.25.0,!=1.25.1,<1.26,>=1.21.1 in /usr/local/lib/python3.6/dist-packages (from requests>=2.3.0->pandas_datareader) (1.24.3)\n",
            "Requirement already satisfied: idna<3,>=2.5 in /usr/local/lib/python3.6/dist-packages (from requests>=2.3.0->pandas_datareader) (2.10)\n",
            "Requirement already satisfied: chardet<4,>=3.0.2 in /usr/local/lib/python3.6/dist-packages (from requests>=2.3.0->pandas_datareader) (3.0.4)\n",
            "Requirement already satisfied: pytz>=2017.2 in /usr/local/lib/python3.6/dist-packages (from pandas>=0.21->pandas_datareader) (2018.9)\n",
            "Requirement already satisfied: numpy>=1.13.3 in /usr/local/lib/python3.6/dist-packages (from pandas>=0.21->pandas_datareader) (1.18.5)\n",
            "Requirement already satisfied: python-dateutil>=2.6.1 in /usr/local/lib/python3.6/dist-packages (from pandas>=0.21->pandas_datareader) (2.8.1)\n",
            "Requirement already satisfied: six>=1.5 in /usr/local/lib/python3.6/dist-packages (from python-dateutil>=2.6.1->pandas>=0.21->pandas_datareader) (1.15.0)\n"
          ],
          "name": "stdout"
        },
        {
          "output_type": "stream",
          "text": [
            "/usr/local/lib/python3.6/dist-packages/pandas_datareader/compat/__init__.py:7: FutureWarning: pandas.util.testing is deprecated. Use the functions in the public API at pandas.testing instead.\n",
            "  from pandas.util.testing import assert_frame_equal\n"
          ],
          "name": "stderr"
        }
      ]
    },
    {
      "cell_type": "markdown",
      "metadata": {
        "id": "nXP9e6v_Xh4a",
        "colab_type": "text"
      },
      "source": [
        "### **Part 2: Gather data**"
      ]
    },
    {
      "cell_type": "code",
      "metadata": {
        "id": "F7vBhVuATU4-",
        "colab_type": "code",
        "colab": {
          "base_uri": "https://localhost:8080/",
          "height": 235
        },
        "outputId": "c7121b84-0dcb-4a5d-d5ef-2dfe85738dd2"
      },
      "source": [
        "for ticker in SP_500_TICKERS:\n",
        "    # Get url and make request\n",
        "    url = BASE_URL_1 + ticker + BASE_URL_2\n",
        "    response = requests.get(url)\n",
        "    response_json = response.json()\n",
        "\n",
        "    # Pull Recommendation from stock data\n",
        "    if not response.ok:\n",
        "        rating = None\n",
        "    try:\n",
        "        results_json = response_json['quoteSummary']['result'][0]\n",
        "        rating = results_json['financialData']['recommendationMean']['fmt']\n",
        "    except:\n",
        "        rating = None\n",
        "\n",
        "    stock_data.append(rating)\n",
        "\n",
        "# Create pandas dataframe and insert data   \n",
        "df = pd.DataFrame(list(zip(SP_500_TICKERS, stock_data)), columns =['Company', 'Rating']) \n",
        "df = df.set_index('Company')\n",
        "\n",
        "df.head()\n"
      ],
      "execution_count": 6,
      "outputs": [
        {
          "output_type": "execute_result",
          "data": {
            "text/html": [
              "<div>\n",
              "<style scoped>\n",
              "    .dataframe tbody tr th:only-of-type {\n",
              "        vertical-align: middle;\n",
              "    }\n",
              "\n",
              "    .dataframe tbody tr th {\n",
              "        vertical-align: top;\n",
              "    }\n",
              "\n",
              "    .dataframe thead th {\n",
              "        text-align: right;\n",
              "    }\n",
              "</style>\n",
              "<table border=\"1\" class=\"dataframe\">\n",
              "  <thead>\n",
              "    <tr style=\"text-align: right;\">\n",
              "      <th></th>\n",
              "      <th>Rating</th>\n",
              "    </tr>\n",
              "    <tr>\n",
              "      <th>Company</th>\n",
              "      <th></th>\n",
              "    </tr>\n",
              "  </thead>\n",
              "  <tbody>\n",
              "    <tr>\n",
              "      <th>A</th>\n",
              "      <td>2.40</td>\n",
              "    </tr>\n",
              "    <tr>\n",
              "      <th>AAL</th>\n",
              "      <td>3.30</td>\n",
              "    </tr>\n",
              "    <tr>\n",
              "      <th>AAP</th>\n",
              "      <td>2.30</td>\n",
              "    </tr>\n",
              "    <tr>\n",
              "      <th>AAPL</th>\n",
              "      <td>2.20</td>\n",
              "    </tr>\n",
              "    <tr>\n",
              "      <th>ABBV</th>\n",
              "      <td>1.90</td>\n",
              "    </tr>\n",
              "  </tbody>\n",
              "</table>\n",
              "</div>"
            ],
            "text/plain": [
              "        Rating\n",
              "Company       \n",
              "A         2.40\n",
              "AAL       3.30\n",
              "AAP       2.30\n",
              "AAPL      2.20\n",
              "ABBV      1.90"
            ]
          },
          "metadata": {
            "tags": []
          },
          "execution_count": 6
        }
      ]
    },
    {
      "cell_type": "code",
      "metadata": {
        "id": "KXhUlVnOVW7d",
        "colab_type": "code",
        "colab": {
          "base_uri": "https://localhost:8080/",
          "height": 129
        },
        "outputId": "472d0c9c-fd8c-4015-a1c7-e1db1d424c97"
      },
      "source": [
        "df.transpose()"
      ],
      "execution_count": 8,
      "outputs": [
        {
          "output_type": "execute_result",
          "data": {
            "text/html": [
              "<div>\n",
              "<style scoped>\n",
              "    .dataframe tbody tr th:only-of-type {\n",
              "        vertical-align: middle;\n",
              "    }\n",
              "\n",
              "    .dataframe tbody tr th {\n",
              "        vertical-align: top;\n",
              "    }\n",
              "\n",
              "    .dataframe thead th {\n",
              "        text-align: right;\n",
              "    }\n",
              "</style>\n",
              "<table border=\"1\" class=\"dataframe\">\n",
              "  <thead>\n",
              "    <tr style=\"text-align: right;\">\n",
              "      <th>Company</th>\n",
              "      <th>A</th>\n",
              "      <th>AAL</th>\n",
              "      <th>AAP</th>\n",
              "      <th>AAPL</th>\n",
              "      <th>ABBV</th>\n",
              "      <th>ABC</th>\n",
              "      <th>ABMD</th>\n",
              "      <th>ABT</th>\n",
              "      <th>ACN</th>\n",
              "      <th>ADBE</th>\n",
              "      <th>ADI</th>\n",
              "      <th>ADM</th>\n",
              "      <th>ADP</th>\n",
              "      <th>ADSK</th>\n",
              "      <th>AEE</th>\n",
              "      <th>AEP</th>\n",
              "      <th>AES</th>\n",
              "      <th>AFL</th>\n",
              "      <th>AIG</th>\n",
              "      <th>AIV</th>\n",
              "      <th>AIZ</th>\n",
              "      <th>AJG</th>\n",
              "      <th>AKAM</th>\n",
              "      <th>ALB</th>\n",
              "      <th>ALGN</th>\n",
              "      <th>ALK</th>\n",
              "      <th>ALL</th>\n",
              "      <th>ALLE</th>\n",
              "      <th>ALXN</th>\n",
              "      <th>AMAT</th>\n",
              "      <th>AMCR</th>\n",
              "      <th>AMD</th>\n",
              "      <th>AME</th>\n",
              "      <th>AMGN</th>\n",
              "      <th>AMP</th>\n",
              "      <th>AMT</th>\n",
              "      <th>AMZN</th>\n",
              "      <th>ANET</th>\n",
              "      <th>ANSS</th>\n",
              "      <th>ANTM</th>\n",
              "      <th>...</th>\n",
              "      <th>VAR</th>\n",
              "      <th>VFC</th>\n",
              "      <th>VIAC</th>\n",
              "      <th>VLO</th>\n",
              "      <th>VMC</th>\n",
              "      <th>VNO</th>\n",
              "      <th>VRSK</th>\n",
              "      <th>VRSN</th>\n",
              "      <th>VRTX</th>\n",
              "      <th>VTR</th>\n",
              "      <th>VZ</th>\n",
              "      <th>WAB</th>\n",
              "      <th>WAT</th>\n",
              "      <th>WBA</th>\n",
              "      <th>WDC</th>\n",
              "      <th>WEC</th>\n",
              "      <th>WELL</th>\n",
              "      <th>WFC</th>\n",
              "      <th>WHR</th>\n",
              "      <th>WLTW</th>\n",
              "      <th>WM</th>\n",
              "      <th>WMB</th>\n",
              "      <th>WMT</th>\n",
              "      <th>WRB</th>\n",
              "      <th>WRK</th>\n",
              "      <th>WST</th>\n",
              "      <th>WU</th>\n",
              "      <th>WY</th>\n",
              "      <th>WYNN</th>\n",
              "      <th>XEL</th>\n",
              "      <th>XLNX</th>\n",
              "      <th>XOM</th>\n",
              "      <th>XRAY</th>\n",
              "      <th>XRX</th>\n",
              "      <th>XYL</th>\n",
              "      <th>YUM</th>\n",
              "      <th>ZBH</th>\n",
              "      <th>ZBRA</th>\n",
              "      <th>ZION</th>\n",
              "      <th>ZTS</th>\n",
              "    </tr>\n",
              "  </thead>\n",
              "  <tbody>\n",
              "    <tr>\n",
              "      <th>Rating</th>\n",
              "      <td>2.40</td>\n",
              "      <td>3.30</td>\n",
              "      <td>2.30</td>\n",
              "      <td>2.20</td>\n",
              "      <td>1.90</td>\n",
              "      <td>2.40</td>\n",
              "      <td>2.30</td>\n",
              "      <td>1.90</td>\n",
              "      <td>2.20</td>\n",
              "      <td>2.00</td>\n",
              "      <td>1.90</td>\n",
              "      <td>2.10</td>\n",
              "      <td>2.90</td>\n",
              "      <td>2.20</td>\n",
              "      <td>2.10</td>\n",
              "      <td>2.30</td>\n",
              "      <td>1.90</td>\n",
              "      <td>3.10</td>\n",
              "      <td>2.50</td>\n",
              "      <td>2.80</td>\n",
              "      <td>1.70</td>\n",
              "      <td>1.80</td>\n",
              "      <td>2.00</td>\n",
              "      <td>2.90</td>\n",
              "      <td>2.10</td>\n",
              "      <td>2.00</td>\n",
              "      <td>2.30</td>\n",
              "      <td>3.10</td>\n",
              "      <td>2.20</td>\n",
              "      <td>2.10</td>\n",
              "      <td>2.60</td>\n",
              "      <td>2.40</td>\n",
              "      <td>2.10</td>\n",
              "      <td>2.20</td>\n",
              "      <td>1.80</td>\n",
              "      <td>2.00</td>\n",
              "      <td>1.80</td>\n",
              "      <td>2.60</td>\n",
              "      <td>2.40</td>\n",
              "      <td>2.00</td>\n",
              "      <td>...</td>\n",
              "      <td>2.10</td>\n",
              "      <td>2.40</td>\n",
              "      <td>2.60</td>\n",
              "      <td>1.90</td>\n",
              "      <td>2.00</td>\n",
              "      <td>3.20</td>\n",
              "      <td>2.50</td>\n",
              "      <td>2.50</td>\n",
              "      <td>2.00</td>\n",
              "      <td>3.10</td>\n",
              "      <td>2.60</td>\n",
              "      <td>2.50</td>\n",
              "      <td>3.60</td>\n",
              "      <td>3.10</td>\n",
              "      <td>2.20</td>\n",
              "      <td>3.20</td>\n",
              "      <td>2.80</td>\n",
              "      <td>3.00</td>\n",
              "      <td>2.90</td>\n",
              "      <td>2.40</td>\n",
              "      <td>2.20</td>\n",
              "      <td>1.80</td>\n",
              "      <td>2.00</td>\n",
              "      <td>3.00</td>\n",
              "      <td>2.50</td>\n",
              "      <td>1.70</td>\n",
              "      <td>3.20</td>\n",
              "      <td>2.10</td>\n",
              "      <td>1.90</td>\n",
              "      <td>2.80</td>\n",
              "      <td>2.60</td>\n",
              "      <td>3.10</td>\n",
              "      <td>2.20</td>\n",
              "      <td>3.30</td>\n",
              "      <td>2.80</td>\n",
              "      <td>2.60</td>\n",
              "      <td>1.90</td>\n",
              "      <td>2.30</td>\n",
              "      <td>2.70</td>\n",
              "      <td>2.10</td>\n",
              "    </tr>\n",
              "  </tbody>\n",
              "</table>\n",
              "<p>1 rows × 505 columns</p>\n",
              "</div>"
            ],
            "text/plain": [
              "Company     A   AAL   AAP  AAPL  ABBV   ABC  ...   XYL   YUM   ZBH  ZBRA  ZION   ZTS\n",
              "Rating   2.40  3.30  2.30  2.20  1.90  2.40  ...  2.80  2.60  1.90  2.30  2.70  2.10\n",
              "\n",
              "[1 rows x 505 columns]"
            ]
          },
          "metadata": {
            "tags": []
          },
          "execution_count": 8
        }
      ]
    },
    {
      "cell_type": "markdown",
      "metadata": {
        "id": "oyt3f4fFXnqj",
        "colab_type": "text"
      },
      "source": [
        "### **Part 3: Save to CSV**"
      ]
    },
    {
      "cell_type": "code",
      "metadata": {
        "id": "1A3oBd2XTS-U",
        "colab_type": "code",
        "colab": {
          "base_uri": "https://localhost:8080/",
          "height": 105
        },
        "outputId": "74ce6ac0-be7f-49e7-aa1b-7fe7364c4350"
      },
      "source": [
        "from google.colab import drive\n",
        "import datetime\n",
        "\n",
        "drive.mount('drive')\n",
        "now = datetime.datetime.now()\n",
        "filename = f\"yahoo_stock_data_{now.year}_{now.month}_{now.day}.csv\"\n",
        "df.to_csv(filename)\n"
      ],
      "execution_count": 14,
      "outputs": [
        {
          "output_type": "stream",
          "text": [
            "Drive already mounted at drive; to attempt to forcibly remount, call drive.mount(\"drive\", force_remount=True).\n",
            "yahoo_stock_data_2020_8_22.csv\n",
            "/content\n",
            "cp: cannot stat 'filename': No such file or directory\n"
          ],
          "name": "stdout"
        }
      ]
    }
  ]
}